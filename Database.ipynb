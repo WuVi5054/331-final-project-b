{
 "cells": [
  {
   "cell_type": "code",
   "execution_count": 42,
   "id": "d42c0d5f",
   "metadata": {},
   "outputs": [],
   "source": [
    "import mysql.connector\n",
    "from mysql.connector import Error\n",
    "import pandas as pd\n",
    "from dotenv import load_dotenv"
   ]
  },
  {
   "cell_type": "code",
   "execution_count": 43,
   "id": "15523d10",
   "metadata": {},
   "outputs": [
    {
     "name": "stdout",
     "output_type": "stream",
     "text": [
      "env: pw=Password\n"
     ]
    }
   ],
   "source": [
    "load_dotenv('.env')\n",
    "%env pw = Password"
   ]
  },
  {
   "cell_type": "code",
   "execution_count": 44,
   "id": "cbeed36e",
   "metadata": {},
   "outputs": [],
   "source": [
    "def create_server_connection(host_name, user_name, user_password):\n",
    "    connection = None\n",
    "    try:\n",
    "        connection = mysql.connector.connect(\n",
    "            host=host_name,\n",
    "            user=user_name,\n",
    "            passwd=user_password\n",
    "        )\n",
    "        print(\"MySQL Database connection successful\")\n",
    "    except Error as err:\n",
    "        print(f\"Error: '{err}'\")\n",
    "\n",
    "    return connection"
   ]
  },
  {
   "cell_type": "code",
   "execution_count": 45,
   "id": "c11effb4",
   "metadata": {},
   "outputs": [
    {
     "name": "stdout",
     "output_type": "stream",
     "text": [
      "MySQL Database connection successful\n"
     ]
    }
   ],
   "source": [
    "connection = create_server_connection(\"localhost\", \"root\", pw)"
   ]
  },
  {
   "cell_type": "code",
   "execution_count": 46,
   "id": "d62a70e0",
   "metadata": {},
   "outputs": [],
   "source": [
    "def create_database(connection, query):\n",
    "    cursor = connection.cursor()\n",
    "    try:\n",
    "        cursor.execute(query)\n",
    "        print(\"Database created successfully\")\n",
    "    except Error as err:\n",
    "        print(f\"Error: '{err}'\")"
   ]
  },
  {
   "cell_type": "code",
   "execution_count": 47,
   "id": "e02e307e",
   "metadata": {},
   "outputs": [
    {
     "name": "stdout",
     "output_type": "stream",
     "text": [
      "Database created successfully\n"
     ]
    }
   ],
   "source": [
    "create_database_query = \"CREATE DATABASE library\"\n",
    "create_database(connection, create_database_query)\n",
    "db = \"library\""
   ]
  },
  {
   "cell_type": "code",
   "execution_count": 48,
   "id": "6e051692",
   "metadata": {},
   "outputs": [],
   "source": [
    "def create_db_connection(host_name, user_name, user_password, db_name):\n",
    "    connection = None\n",
    "    try:\n",
    "        connection = mysql.connector.connect(\n",
    "            host=host_name,\n",
    "            user=user_name,\n",
    "            passwd=user_password,\n",
    "            database=db_name\n",
    "        )\n",
    "        print(\"MySQL Database connection successful\")\n",
    "    except Error as err:\n",
    "        print(f\"Error: '{err}'\")\n",
    "\n",
    "    return connection"
   ]
  },
  {
   "cell_type": "code",
   "execution_count": 49,
   "id": "009df555",
   "metadata": {},
   "outputs": [],
   "source": [
    "def execute_query(connection, query):\n",
    "    cursor = connection.cursor()\n",
    "    try:\n",
    "        cursor.execute(query)\n",
    "        connection.commit()\n",
    "        print(\"Query successful\")\n",
    "    except Error as err:\n",
    "        print(f\"Error: '{err}'\")"
   ]
  },
  {
   "cell_type": "code",
   "execution_count": 50,
   "id": "d055b322",
   "metadata": {},
   "outputs": [
    {
     "name": "stdout",
     "output_type": "stream",
     "text": [
      "MySQL Database connection successful\n",
      "Query successful\n",
      "Query successful\n",
      "Query successful\n",
      "Query successful\n",
      "Query successful\n"
     ]
    }
   ],
   "source": [
    "create_person_table = \"\"\"\n",
    "CREATE TABLE person (\n",
    "  ssn INT PRIMARY KEY,\n",
    "  first_name VARCHAR(40) NOT NULL,\n",
    "  last_name VARCHAR(40) NOT NULL,\n",
    "  address VARCHAR(40) NOT NULL,\n",
    "  position VARCHAR(40) NOT NULL,\n",
    "  phone_no VARCHAR(20)\n",
    "  );\n",
    " \"\"\"\n",
    "\n",
    "create_member_table = \"\"\"\n",
    "CREATE TABLE member (\n",
    "  id INT PRIMARY KEY,\n",
    "  expiration DATE\n",
    ");\n",
    " \"\"\"\n",
    "\n",
    "create_person_borrowing_table = \"\"\"\n",
    "CREATE TABLE person_borrowing (\n",
    "  ssn INT,\n",
    "  id INT,\n",
    "  isbn INT,\n",
    "  PRIMARY KEY (ssn, id, isbn),\n",
    "  FOREIGN KEY (ssn) REFERENCES person(ssn),\n",
    "  FOREIGN KEY (id) REFERENCES member(id),\n",
    "  FOREIGN KEY (isbn) REFERENCES book(isbn)\n",
    ");\n",
    "\"\"\"\n",
    "\n",
    "create_book_table = \"\"\"\n",
    "CREATE TABLE book (\n",
    "  isbn INT PRIMARY KEY,\n",
    "  description VARCHAR(255),\n",
    "  title VARCHAR(255) NOT NULL,\n",
    "  author VARCHAR(255) NOT NULL,\n",
    "  genre VARCHAR(255) NOT NULL,\n",
    "  edition INT NOT NULL,\n",
    "  language VARCHAR(40) NOT NULL,\n",
    "  copies_available INT NOT NULL,\n",
    "  kind VARCHAR(255),\n",
    "  lendable BOOLEAN NOT NULL DEFAULT 0\n",
    ");\n",
    "\"\"\"\n",
    "\n",
    "create_borrowed_book_table = \"\"\"\n",
    "CREATE TABLE borrowed_book (\n",
    "  id INT,\n",
    "  isbn INT,\n",
    "  check_out_date DATE,\n",
    "  return_date DATE,\n",
    "  PRIMARY KEY (id, isbn, check_out_date),\n",
    "  FOREIGN KEY (id) REFERENCES member(id),\n",
    "  FOREIGN KEY (isbn) REFERENCES book(isbn)\n",
    ");\n",
    "\"\"\"\n",
    "\n",
    "\n",
    "connection = create_db_connection(\"localhost\", \"root\", pw, db)\n",
    "execute_query(connection, create_person_table)\n",
    "execute_query(connection, create_member_table)\n",
    "execute_query(connection, create_book_table)\n",
    "execute_query(connection, create_borrowed_book_table)\n",
    "execute_query(connection, create_person_borrowing_table)"
   ]
  },
  {
   "cell_type": "code",
   "execution_count": 51,
   "id": "5187e04c",
   "metadata": {},
   "outputs": [
    {
     "name": "stdout",
     "output_type": "stream",
     "text": [
      "MySQL Database connection successful\n",
      "Query successful\n",
      "Query successful\n",
      "Query successful\n",
      "Query successful\n",
      "Query successful\n"
     ]
    }
   ],
   "source": [
    "pop_person = '''\n",
    "INSERT INTO person (ssn, first_name, last_name, address, position, phone_no)\n",
    "VALUES\n",
    "(111111111, 'John', 'Doe', '123 Main St', 'Librarian', '+12345678901'),\n",
    "(222222222, 'Jane', 'Smith', '456 Oak St', 'Student', '+98765432109'),\n",
    "(333333333, 'Alice', 'Johnson', '789 Pine St', 'Librarian', '+87654321098'),\n",
    "(444444444, 'David', 'Miller', '567 Elm St', 'Student', '+11223344556'),\n",
    "(555555555, 'Emma', 'Lee', '890 Maple St', 'Librarian', '+99887766554'),\n",
    "(666666666, 'Brian', 'Anderson', '432 Birch St', 'Student', '+66778899001'),\n",
    "(777777777, 'Olivia', 'Brown', '345 Cedar St', 'Librarian', '+11223344557'),\n",
    "(888888888, 'Michael', 'Taylor', '678 Pine St', 'Student', '+66778899002'),\n",
    "(999999999, 'Sophia', 'Davis', '987 Oak St', 'Librarian', '+99887766555'),\n",
    "(101010101, 'Ethan', 'White', '234 Maple St', 'Student', '+11223344558');\n",
    "'''\n",
    "\n",
    "pop_person_borrowing = '''\n",
    "INSERT INTO person_borrowing (ssn, id, isbn)\n",
    "VALUES\n",
    "(111111111, 1, 987654321),\n",
    "(222222222, 2, 123456789),\n",
    "(333333333, 3, 456789012),\n",
    "(444444444, 4, 234567890),\n",
    "(555555555, 5, 567890123),\n",
    "(666666666, 6, 890123456),\n",
    "(777777777, 7, 123789456),\n",
    "(888888888, 8, 456012378),\n",
    "(999999999, 9, 789345012),\n",
    "(101010101, 10, 123456789);\n",
    "\n",
    "'''\n",
    "\n",
    "pop_member = '''\n",
    "INSERT INTO member (id, expiration)\n",
    "VALUES\n",
    "(1, '2024-12-31'),\n",
    "(2, '2023-11-15'),\n",
    "(3, '2024-06-30'),\n",
    "(4, '2023-12-15'),\n",
    "(5, '2023-10-20'),\n",
    "(6, '2024-01-10'),\n",
    "(7, '2023-09-05'),\n",
    "(8, '2024-03-22'),\n",
    "(9, '2023-08-18'),\n",
    "(10, '2024-02-01'),\n",
    "(11, '2024-02-01');\n",
    "'''\n",
    "\n",
    "pop_book = '''\n",
    "INSERT INTO book (isbn, description, title, author, genre, edition, language, copies_available, kind, lendable)\n",
    "VALUES\n",
    "(987654321, 'Science Fiction book', 'The Galactic Adventure', 'John Writer', 'Science Fiction', 1, 'English', 5, 'Paperback', true),\n",
    "(123456789, 'Mystery book', 'The Enigma Code', 'Jane Author', 'Mystery', 2, 'French', 3, 'Hardcover', true),\n",
    "(456789012, 'Fantasy book', 'The Magical Land', 'Alice Novelist', 'Fantasy', 3, 'Spanish', 7, 'E-book', true),\n",
    "(234567890, 'Adventure book', 'The Quest for Gold', 'David Explorer', 'Adventure', 1, 'German', 2, 'Paperback', true),\n",
    "(567890123, 'History book', 'Ancient Civilizations', 'Emma Historian', 'History', 2, 'Russian', 6, 'Hardcover', true),\n",
    "(890123456, 'Romance book', 'Love Under the Moonlight', 'Brian Romantic', 'Romance', 1, 'Italian', 4, 'E-book', true),\n",
    "(123789456, 'Biography book', 'Journey of a Visionary', 'Olivia Biographer', 'Biography', 3, 'French', 3, 'Paperback', true),\n",
    "(456012378, 'Thriller book', 'Chasing Shadows', 'Michael Thriller', 'Thriller', 2, 'Spanish', 8, 'Hardcover', true),\n",
    "(789345012, 'Science book', 'The Wonders of Universe', 'Sophia Scientist', 'Science', 1, 'English', 5, 'E-book', true),\n",
    "(123456755, 'Comedy book', 'Laugh Out Loud', 'Ethan Comedian', 'Comedy', 1, 'German', 4, 'Paperback', true);\n",
    "\n",
    "'''\n",
    "\n",
    "pop_borrowed_book = '''\n",
    "INSERT INTO borrowed_book (id, isbn, check_out_date, return_date)\n",
    "VALUES\n",
    "(1, 987654321, '2023-12-01', '2023-12-15'),\n",
    "(2, 123456789, '2023-11-15', '2023-11-30'),\n",
    "(3, 456789012, '2023-10-01', '2023-10-15'),\n",
    "(4, 234567890, '2023-09-15', '2023-09-30'),\n",
    "(5, 567890123, '2023-08-01', '2023-08-15'),\n",
    "(6, 890123456, '2023-07-15', '2023-07-30'),\n",
    "(7, 123789456, '2023-06-01', '2023-06-15'),\n",
    "(8, 456012378, '2023-05-15', '2023-05-30'),\n",
    "(9, 789345012, '2023-04-01', '2023-04-15'),\n",
    "(10, 123456789, '2023-03-15', '2023-03-30');\n",
    "\n",
    "'''\n",
    "\n",
    "connection = create_db_connection(\"localhost\", \"root\", pw, db)\n",
    "execute_query(connection, pop_person)\n",
    "execute_query(connection, pop_book)\n",
    "execute_query(connection, pop_member)\n",
    "execute_query(connection, pop_person_borrowing)\n",
    "execute_query(connection, pop_borrowed_book)"
   ]
  },
  {
   "cell_type": "code",
   "execution_count": 52,
   "id": "b4435d26",
   "metadata": {},
   "outputs": [],
   "source": [
    "def read_query(connection, query):\n",
    "    cursor = connection.cursor()\n",
    "    result = None\n",
    "    try:\n",
    "        cursor.execute(query)\n",
    "        result = cursor.fetchall()\n",
    "        return result\n",
    "    except Error as err:\n",
    "        print(f\"Error: '{err}'\")"
   ]
  },
  {
   "cell_type": "code",
   "execution_count": 53,
   "id": "1c46f4c5",
   "metadata": {},
   "outputs": [
    {
     "name": "stdout",
     "output_type": "stream",
     "text": [
      "MySQL Database connection successful\n",
      "(101010101, 'Ethan', 'White', '234 Maple St', 'Student', '+11223344558')\n",
      "(111111111, 'John', 'Doe', '123 Main St', 'Librarian', '+12345678901')\n",
      "(222222222, 'Jane', 'Smith', '456 Oak St', 'Student', '+98765432109')\n",
      "(333333333, 'Alice', 'Johnson', '789 Pine St', 'Librarian', '+87654321098')\n",
      "(444444444, 'David', 'Miller', '567 Elm St', 'Student', '+11223344556')\n",
      "(555555555, 'Emma', 'Lee', '890 Maple St', 'Librarian', '+99887766554')\n",
      "(666666666, 'Brian', 'Anderson', '432 Birch St', 'Student', '+66778899001')\n",
      "(777777777, 'Olivia', 'Brown', '345 Cedar St', 'Librarian', '+11223344557')\n",
      "(888888888, 'Michael', 'Taylor', '678 Pine St', 'Student', '+66778899002')\n",
      "(999999999, 'Sophia', 'Davis', '987 Oak St', 'Librarian', '+99887766555')\n"
     ]
    }
   ],
   "source": [
    "q1 = \"\"\"\n",
    "SELECT *\n",
    "FROM person;\n",
    "\"\"\"\n",
    "\n",
    "connection = create_db_connection(\"localhost\", \"root\", pw, db)\n",
    "results = read_query(connection, q1)\n",
    "\n",
    "for result in results:\n",
    "  print(result)"
   ]
  },
  {
   "cell_type": "code",
   "execution_count": 39,
   "id": "0268fb50",
   "metadata": {},
   "outputs": [
    {
     "name": "stdout",
     "output_type": "stream",
     "text": [
      "MySQL Database connection successful\n",
      "Query successful\n"
     ]
    }
   ],
   "source": [
    "update = \"\"\"\n",
    "UPDATE person \n",
    "SET address = '23 Fingiertweg, 14534 Berlin' \n",
    "WHERE ssn = 101010101;\n",
    "\"\"\"\n",
    "\n",
    "connection = create_db_connection(\"localhost\", \"root\", pw, db)\n",
    "execute_query(connection, update)"
   ]
  },
  {
   "cell_type": "code",
   "execution_count": 54,
   "id": "27402e1c",
   "metadata": {},
   "outputs": [
    {
     "name": "stdout",
     "output_type": "stream",
     "text": [
      "MySQL Database connection successful\n",
      "(101010101, 'Ethan', 'White', '23 Fingiertweg, 14534 Berlin', 'Student', '+11223344558')\n",
      "(111111111, 'John', 'Doe', '123 Main St', 'Librarian', '+12345678901')\n",
      "(222222222, 'Jane', 'Smith', '456 Oak St', 'Student', '+98765432109')\n",
      "(333333333, 'Alice', 'Johnson', '789 Pine St', 'Librarian', '+87654321098')\n",
      "(444444444, 'David', 'Miller', '567 Elm St', 'Student', '+11223344556')\n",
      "(555555555, 'Emma', 'Lee', '890 Maple St', 'Librarian', '+99887766554')\n",
      "(666666666, 'Brian', 'Anderson', '432 Birch St', 'Student', '+66778899001')\n",
      "(777777777, 'Olivia', 'Brown', '345 Cedar St', 'Librarian', '+11223344557')\n",
      "(888888888, 'Michael', 'Taylor', '678 Pine St', 'Student', '+66778899002')\n",
      "(999999999, 'Sophia', 'Davis', '987 Oak St', 'Librarian', '+99887766555')\n"
     ]
    }
   ],
   "source": [
    "q1 = \"\"\"\n",
    "SELECT *\n",
    "FROM person;\n",
    "\"\"\"\n",
    "\n",
    "connection = create_db_connection(\"localhost\", \"root\", pw, db)\n",
    "results = read_query(connection, q1)\n",
    "\n",
    "for result in results:\n",
    "  print(result)"
   ]
  },
  {
   "cell_type": "code",
   "execution_count": 55,
   "id": "b8582e53",
   "metadata": {},
   "outputs": [
    {
     "name": "stdout",
     "output_type": "stream",
     "text": [
      "MySQL Database connection successful\n",
      "Query successful\n"
     ]
    }
   ],
   "source": [
    "delete_course = \"\"\"\n",
    "DELETE FROM member \n",
    "WHERE id = 11;\n",
    "\"\"\"\n",
    "\n",
    "connection = create_db_connection(\"localhost\", \"root\", pw, db)\n",
    "execute_query(connection, delete_course)"
   ]
  },
  {
   "cell_type": "code",
   "execution_count": 56,
   "id": "b1a5cbaf",
   "metadata": {},
   "outputs": [
    {
     "name": "stdout",
     "output_type": "stream",
     "text": [
      "MySQL Database connection successful\n",
      "(1, datetime.date(2024, 12, 31))\n",
      "(2, datetime.date(2023, 11, 15))\n",
      "(3, datetime.date(2024, 6, 30))\n",
      "(4, datetime.date(2023, 12, 15))\n",
      "(5, datetime.date(2023, 10, 20))\n",
      "(6, datetime.date(2024, 1, 10))\n",
      "(7, datetime.date(2023, 9, 5))\n",
      "(8, datetime.date(2024, 3, 22))\n",
      "(9, datetime.date(2023, 8, 18))\n",
      "(10, datetime.date(2024, 2, 1))\n"
     ]
    }
   ],
   "source": [
    "q1 = \"\"\"\n",
    "SELECT *\n",
    "FROM member;\n",
    "\"\"\"\n",
    "\n",
    "connection = create_db_connection(\"localhost\", \"root\", pw, db)\n",
    "results = read_query(connection, q1)\n",
    "\n",
    "for result in results:\n",
    "  print(result)"
   ]
  },
  {
   "cell_type": "code",
   "execution_count": null,
   "id": "2c9e941c",
   "metadata": {},
   "outputs": [],
   "source": []
  }
 ],
 "metadata": {
  "kernelspec": {
   "display_name": "Python 3 (ipykernel)",
   "language": "python",
   "name": "python3"
  },
  "language_info": {
   "codemirror_mode": {
    "name": "ipython",
    "version": 3
   },
   "file_extension": ".py",
   "mimetype": "text/x-python",
   "name": "python",
   "nbconvert_exporter": "python",
   "pygments_lexer": "ipython3",
   "version": "3.9.12"
  }
 },
 "nbformat": 4,
 "nbformat_minor": 5
}
